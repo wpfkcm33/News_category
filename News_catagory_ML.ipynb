{
 "cells": [
  {
   "cell_type": "markdown",
   "id": "15d9593e",
   "metadata": {},
   "source": [
    "### Tf-idf를 사용한 분류기"
   ]
  },
  {
   "cell_type": "code",
   "execution_count": 60,
   "id": "3928a558",
   "metadata": {
    "scrolled": true
   },
   "outputs": [
    {
     "name": "stdout",
     "output_type": "stream",
     "text": [
      "              precision    recall  f1-score   support\n",
      "\n",
      "       IT/과학       0.00      0.00      0.00         6\n",
      "          경제       1.00      0.03      0.06        30\n",
      "          사회       0.69      0.97      0.80       180\n",
      "       생활/문화       0.00      0.00      0.00        15\n",
      "          정치       0.79      0.49      0.61        61\n",
      "\n",
      "    accuracy                           0.70       292\n",
      "   macro avg       0.50      0.30      0.29       292\n",
      "weighted avg       0.69      0.70      0.63       292\n",
      "\n"
     ]
    },
    {
     "name": "stderr",
     "output_type": "stream",
     "text": [
      "C:\\Users\\endnj\\anaconda3\\Lib\\site-packages\\sklearn\\metrics\\_classification.py:1344: UndefinedMetricWarning: Precision and F-score are ill-defined and being set to 0.0 in labels with no predicted samples. Use `zero_division` parameter to control this behavior.\n",
      "  _warn_prf(average, modifier, msg_start, len(result))\n",
      "C:\\Users\\endnj\\anaconda3\\Lib\\site-packages\\sklearn\\metrics\\_classification.py:1344: UndefinedMetricWarning: Precision and F-score are ill-defined and being set to 0.0 in labels with no predicted samples. Use `zero_division` parameter to control this behavior.\n",
      "  _warn_prf(average, modifier, msg_start, len(result))\n",
      "C:\\Users\\endnj\\anaconda3\\Lib\\site-packages\\sklearn\\metrics\\_classification.py:1344: UndefinedMetricWarning: Precision and F-score are ill-defined and being set to 0.0 in labels with no predicted samples. Use `zero_division` parameter to control this behavior.\n",
      "  _warn_prf(average, modifier, msg_start, len(result))\n"
     ]
    }
   ],
   "source": [
    "import numpy as np\n",
    "import pandas as pd\n",
    "import nltk\n",
    "import re\n",
    "from nltk.tokenize import word_tokenize\n",
    "from gensim.models import Word2Vec\n",
    "from sklearn.model_selection import train_test_split\n",
    "from sklearn.ensemble import RandomForestClassifier\n",
    "from sklearn.metrics import classification_report\n",
    "from sklearn.feature_extraction.text import TfidfVectorizer\n",
    "from sklearn.pipeline import make_pipeline\n",
    "from sklearn.naive_bayes import MultinomialNB\n",
    "from sklearn.model_selection import cross_val_score\n",
    "\n",
    "# 데이터 로드\n",
    "data = pd.read_csv(\"news_data_ML.csv\")\n",
    "\n",
    "def clean_title(text):\n",
    "    \"\"\" 뉴스 제목에서 불필요한 패턴과 문자를 제거합니다. \"\"\"\n",
    "    text = re.sub(r'\\[.*?\\]', '', text)  # 대괄호 안의 텍스트 제거\n",
    "    text = re.sub(r'[\\'\"“”‘’]', '', text)  # 모든 종류의 따옴표(일반, 특수) 제거\n",
    "    return text.strip()  # 양쪽 공백 제거\n",
    "\n",
    "data['cleaned_title'] = data['title'].apply(clean_title)\n",
    "# 모델 학습, 예측, 평가 등의 과정에 'encoded_category' 사용\n",
    "# 예: true_labels = data['encoded_category']\n",
    "\n",
    "# 데이터 전처리 \n",
    "data['tokenized_text'] = data['cleaned_title'].apply(word_tokenize)\n",
    "\n",
    "# 훈련 데이터와 테스트 데이터 분할\n",
    "X_train, X_test, y_train, y_test = train_test_split(data['cleaned_title'], data['category'], test_size=0.3)\n",
    "\n",
    "# TF-IDF 벡터화\n",
    "vectorizer = TfidfVectorizer()\n",
    "X_train_vec = vectorizer.fit_transform(X_train)\n",
    "X_test_vec = vectorizer.transform(X_test)\n",
    "\n",
    "# 나이브 베이즈 모델 초기화 및 훈련\n",
    "model = MultinomialNB()\n",
    "model.fit(X_train_vec, y_train)\n",
    "\n",
    "# 모델 평가\n",
    "y_pred = model.predict(X_test_vec)\n",
    "print(classification_report(y_test, y_pred))\n"
   ]
  },
  {
   "cell_type": "markdown",
   "id": "3e207123",
   "metadata": {},
   "source": [
    "#### example_text에 원하는 제목을 입력해 예측 결과 확인"
   ]
  },
  {
   "cell_type": "code",
   "execution_count": 41,
   "id": "9c9589fe",
   "metadata": {},
   "outputs": [
    {
     "name": "stdout",
     "output_type": "stream",
     "text": [
      "제목: EU, 반도체·AI 등 민감기술 투자·수출 통제 추진 \n",
      "예측된 카테고리: 사회\n"
     ]
    }
   ],
   "source": [
    "example_text = \"EU, 반도체·AI 등 민감기술 투자·수출 통제 추진\"\n",
    "\n",
    "# 전체 텍스트에 대한 벡터 변환\n",
    "example_text_vec = vectorizer.transform([example_text])  # 리스트로 감싸서 전달\n",
    "\n",
    "# 예측 수행\n",
    "predicted_category = model.predict(example_text_vec)\n",
    "\n",
    "print(f\"제목: {example_text} \\n예측된 카테고리: {predicted_category[0]}\")"
   ]
  },
  {
   "cell_type": "markdown",
   "id": "81cbcd6a",
   "metadata": {},
   "source": [
    "Multinomial Naive Bayes 모델은 각 클래스에 대한 각 단어의 로그 조건부 확률을 feature_log_prob_ 속성에 저장한다.  \n",
    "이 값을 사용하여 각 클래스에 대한 가장 중요한 단어들을 확인해보자."
   ]
  },
  {
   "cell_type": "code",
   "execution_count": 61,
   "id": "f94f928a",
   "metadata": {},
   "outputs": [
    {
     "name": "stdout",
     "output_type": "stream",
     "text": [
      "Class: IT/과학\n",
      "Top words: 개통, 사전, 갤럭시, skt, 시리즈, s24, 갤럭시s24, 뉴스혁신포럼, 출범, 투명성\n",
      "\n",
      "Class: 경제\n",
      "Top words: 플랫폼법, 공정위, 역차별은, 역대, gtx, lpg, 충전소, 안덕근, 거짓뉴스, 최고\n",
      "\n",
      "Class: 사회\n",
      "Top words: 1월, 26일, 25일, 새로운미래, 이낙연, 무죄, 양승태, 배현진, 뉴스, 클로징\n",
      "\n",
      "Class: 생활/문화\n",
      "Top words: 유인촌, 장관, 문체부, 강릉, 바우길, 찾은, 추위, 함께하는, 시청자와, 프로그램\n",
      "\n",
      "Class: 정치\n",
      "Top words: 30, 한동훈, 배현진, 대통령, 10, 00, 18, 31, 피습, 쌍특검법\n",
      "\n"
     ]
    }
   ],
   "source": [
    "import numpy as np\n",
    "\n",
    "# TF-IDF 벡터라이저의 특성 이름 가져오기\n",
    "feature_names = vectorizer.get_feature_names_out()\n",
    "\n",
    "# 각 클래스에 대한 상위 N개 중요 단어를 추출하는 함수\n",
    "def top_n_words_per_class(class_index, n=10):\n",
    "    sorted_indices = model.feature_log_prob_[class_index, :].argsort()[::-1]\n",
    "    top_n = feature_names[sorted_indices][:n]\n",
    "    return top_n\n",
    "\n",
    "# 각 클래스에 대한 상위 단어들 출력\n",
    "for i in range(len(model.classes_)):\n",
    "    class_name = model.classes_[i]\n",
    "    top_words = top_n_words_per_class(i, 10)\n",
    "    print(f\"Class: {class_name}\")\n",
    "    print(f\"Top words: {', '.join(top_words)}\\n\")\n"
   ]
  },
  {
   "cell_type": "code",
   "execution_count": 63,
   "id": "474f9f62",
   "metadata": {},
   "outputs": [
    {
     "name": "stdout",
     "output_type": "stream",
     "text": [
      "교차 검증 정확도 점수: [0.68367347 0.67346939 0.75510204 0.72164948 0.74226804 0.71134021\n",
      " 0.69072165 0.67010309 0.70103093 0.65979381]\n",
      "평균 정확도: 0.7009152114454029\n"
     ]
    }
   ],
   "source": [
    "from sklearn.pipeline import make_pipeline\n",
    "from sklearn.feature_extraction.text import TfidfVectorizer\n",
    "from sklearn.naive_bayes import MultinomialNB\n",
    "from sklearn.model_selection import cross_val_score\n",
    "\n",
    "# 데이터 로드 및 전처리\n",
    "data = pd.read_csv(\"news_data_ML.csv\")\n",
    "\n",
    "def clean_title(text):\n",
    "    \"\"\" 뉴스 제목에서 불필요한 패턴과 문자를 제거합니다. \"\"\"\n",
    "    text = re.sub(r'\\[.*?\\]', '', text)  # 대괄호 안의 텍스트 제거\n",
    "    text = re.sub(r'[\\'\"“”‘’]', '', text)  # 모든 종류의 따옴표(일반, 특수) 제거\n",
    "    return text.strip()  # 양쪽 공백 제거\n",
    "\n",
    "data['cleaned_title'] = data['title'].apply(clean_title)\n",
    "\n",
    "# 파이프라인 생성: TF-IDF 벡터화 및 나이브 베이즈 모델\n",
    "pipeline = make_pipeline(TfidfVectorizer(), MultinomialNB())\n",
    "\n",
    "# 교차 검증 수행\n",
    "cross_val_scores = cross_val_score(pipeline, data['cleaned_title'], data['category'], cv=10, scoring='accuracy')\n",
    "\n",
    "# 교차 검증 결과 출력\n",
    "print(\"교차 검증 정확도 점수:\", cross_val_scores)\n",
    "print(\"평균 정확도:\", np.mean(cross_val_scores))\n"
   ]
  },
  {
   "cell_type": "code",
   "execution_count": 79,
   "id": "f45fd806",
   "metadata": {},
   "outputs": [
    {
     "name": "stderr",
     "output_type": "stream",
     "text": [
      "C:\\Users\\endnj\\anaconda3\\Lib\\site-packages\\sklearn\\model_selection\\_search.py:305: UserWarning: The total space of parameters 6 is smaller than n_iter=10. Running 6 iterations. For exhaustive searches, use GridSearchCV.\n",
      "  warnings.warn(\n"
     ]
    },
    {
     "name": "stdout",
     "output_type": "stream",
     "text": [
      "Best Parameters: {'multinomialnb__alpha': 0.1}\n",
      "Best Score: 0.7625799629923341\n"
     ]
    }
   ],
   "source": [
    "from sklearn.model_selection import GridSearchCV\n",
    "\n",
    "# TF-IDF 벡터화 및 나이브 베이즈 모델 파이프라인\n",
    "pipeline = make_pipeline(TfidfVectorizer(), MultinomialNB())\n",
    "\n",
    "# 하이퍼파라미터 그리드 설정\n",
    "param_grid = {\n",
    "    'multinomialnb__alpha': [0.01, 0.1, 0.5, 1.0, 2.0, 5.0]  # MultinomialNB의 alpha 값 범위\n",
    "}\n",
    "\n",
    "# RandomizedSearchCV 초기화\n",
    "random_search = RandomizedSearchCV(pipeline, param_grid, cv=5, scoring='accuracy')\n",
    "# 데이터 전처리 및 문서 벡터 변환 코드 (생략)\n",
    "\n",
    "# 하이퍼파라미터 튜닝 실행\n",
    "random_search.fit(data['cleaned_title'], data['category'])\n",
    "\n",
    "# 최적의 파라미터와 점수 출력\n",
    "print(\"Best Parameters:\", random_search.best_params_)\n",
    "print(\"Best Score:\", random_search.best_score_)\n"
   ]
  },
  {
   "cell_type": "markdown",
   "id": "9198dee2",
   "metadata": {},
   "source": [
    "### Word2Vec를 사용한 분류기"
   ]
  },
  {
   "cell_type": "code",
   "execution_count": 66,
   "id": "f97b018b",
   "metadata": {},
   "outputs": [
    {
     "name": "stdout",
     "output_type": "stream",
     "text": [
      "              precision    recall  f1-score   support\n",
      "\n",
      "       IT/과학       1.00      0.25      0.40         4\n",
      "          경제       1.00      0.09      0.17        32\n",
      "          사회       0.64      0.99      0.78       169\n",
      "       생활/문화       1.00      0.25      0.40         8\n",
      "          정치       0.89      0.30      0.45        79\n",
      "\n",
      "    accuracy                           0.67       292\n",
      "   macro avg       0.91      0.38      0.44       292\n",
      "weighted avg       0.76      0.67      0.61       292\n",
      "\n"
     ]
    }
   ],
   "source": [
    "import numpy as np\n",
    "import pandas as pd\n",
    "import nltk\n",
    "from nltk.tokenize import word_tokenize\n",
    "from gensim.models import Word2Vec\n",
    "from sklearn.model_selection import train_test_split\n",
    "from sklearn.ensemble import RandomForestClassifier\n",
    "from sklearn.metrics import classification_report\n",
    "\n",
    "# 데이터 로드 및 전처리\n",
    "data = pd.read_csv(\"news_data_ML.csv\")\n",
    "\n",
    "def clean_title(text):\n",
    "    \"\"\" 뉴스 제목에서 불필요한 패턴과 문자를 제거합니다. \"\"\"\n",
    "    text = re.sub(r'\\[.*?\\]', '', text)  # 대괄호 안의 텍스트 제거\n",
    "    text = re.sub(r'[\\'\"“”‘’]', '', text)  # 모든 종류의 따옴표(일반, 특수) 제거\n",
    "    return text.strip()  # 양쪽 공백 제거\n",
    "\n",
    "data['cleaned_title'] = data['title'].apply(clean_title)\n",
    "\n",
    "\n",
    "data['tokenized_text'] = data['title'].apply(word_tokenize)\n",
    "# Word2Vec 모델 훈련\n",
    "w2v_model = Word2Vec(data['tokenized_text'], vector_size=100, window=5, min_count=1, workers=4)\n",
    "\n",
    "# 문서별 평균 벡터 계산 함수\n",
    "def document_vector(doc):\n",
    "    # 단어 벡터의 평균을 계산\n",
    "    doc = [word for word in doc if word in w2v_model.wv.index_to_key]\n",
    "    return np.mean(w2v_model.wv[doc], axis=0)\n",
    "\n",
    "# 각 문서에 대한 문서 벡터 생성\n",
    "data['doc_vector'] = data['tokenized_text'].apply(document_vector)\n",
    "\n",
    "# 훈련 데이터와 테스트 데이터 분할\n",
    "X_train, X_test, y_train, y_test = train_test_split(data['doc_vector'].tolist(), data['category'], test_size=0.3)\n",
    "\n",
    "# 분류기 훈련\n",
    "classifier = RandomForestClassifier()\n",
    "classifier.fit(X_train, y_train)\n",
    "\n",
    "# 예측을 위한 함수 정의\n",
    "def predict_category(text, w2v_model, classifier):\n",
    "    # 텍스트를 토큰화하고 Word2Vec 모델을 사용하여 벡터 생성\n",
    "    tokenized_text = text.split()\n",
    "    doc_vector = document_vector(tokenized_text)\n",
    "    if np.isnan(doc_vector).any():\n",
    "        doc_vector = np.zeros(w2v_model.vector_size)\n",
    "    \n",
    "    # 예측 수행\n",
    "    predicted_category = classifier.predict([doc_vector])\n",
    "    return predicted_category[0]\n",
    "\n",
    "# 모델 평가\n",
    "y_pred = classifier.predict(X_test)\n",
    "print(classification_report(y_test, y_pred))"
   ]
  },
  {
   "cell_type": "markdown",
   "id": "8c90b36b",
   "metadata": {},
   "source": [
    "Word2Vec 모델은 훈련 데이터에 있는 단어들만 학습한다. 만약 예측하려는 텍스트에 훈련 데이터에 없는 새로운 단어가 포함되어 있다면, 이 단어들은 Word2Vec 모델에 의해 벡터로 변환되지 않기 때문에, 제대로 예측하지 못하거나 에러가 나온다.\n",
    "즉 뉴스 제목으로 카테고리를 예측하는 모델을 만들 때 Word2Vec 모델을 사용한다면, 뉴스 제목에 어떤 단어가 들어와도 그 단어가 훈련 데이터 안에 있어야 하도록 어마어마한 양의 훈련 데이터가 필요하다는 뜻이다."
   ]
  },
  {
   "cell_type": "code",
   "execution_count": 39,
   "id": "216b37c4",
   "metadata": {},
   "outputs": [
    {
     "name": "stdout",
     "output_type": "stream",
     "text": [
      "제목: “유튜브만 믿어!”…극혐 정치·가짜뉴스 키우는 SNS \n",
      "예측된 카테고리: 사회\n"
     ]
    }
   ],
   "source": [
    "#제목에 있는 단어가 학습 데이터에 모두 있는 경우\n",
    "example_text_1 = \"“유튜브만 믿어!”…극혐 정치·가짜뉴스 키우는 SNS\"\n",
    "predicted_category_1 = predict_category(example_text_1, w2v_model, classifier)\n",
    "print(f\"제목: {example_text_1} \\n예측된 카테고리: {predicted_category_1}\")\n",
    "\n",
    "# #제목에 학습 데이터에 없는 단어가 있는 경우 - ValueError: need at least one array to concatenate\n",
    "# example_text_2 = \"한국원자력학회, 고준위 방폐물 특별법 처리 촉구\"\n",
    "# predicted_category_2 = predict_category(example_text_2, w2v_model, classifier)\n",
    "# print(f\"제목: {example_text_2} \\n예측된 카테고리: {predicted_category_2}\")"
   ]
  },
  {
   "cell_type": "markdown",
   "id": "51d58909",
   "metadata": {},
   "source": [
    "Word2Vec에서 각 특성은 Word2Vec 모델에 의해 생성된 개별 차원(word -> vector)을 나타내기 때문에, 카테고리 결정에 영향을 미치는 구체적인 단어를 파악하고자 한다면 TF-IDF를 사용해야 한다."
   ]
  },
  {
   "cell_type": "code",
   "execution_count": 40,
   "id": "ef5b8b4c",
   "metadata": {},
   "outputs": [
    {
     "data": {
      "image/png": "[encoded data removed]",
      "text/plain": [
       "<Figure size 1500x500 with 1 Axes>"
      ]
     },
     "metadata": {},
     "output_type": "display_data"
    }
   ],
   "source": [
    "import matplotlib.pyplot as plt\n",
    "\n",
    "# RandomForestClassifier의 feature importance 추출\n",
    "importances = classifier.feature_importances_\n",
    "\n",
    "# feature importance를 시각화\n",
    "indices = np.argsort(importances)[::-1]\n",
    "plt.figure(figsize=(15, 5))\n",
    "plt.title(\"Feature Importances\")\n",
    "plt.bar(range(len(indices)), importances[indices], color=\"r\", align=\"center\")\n",
    "plt.xticks(range(len(indices)), indices)\n",
    "plt.xlim([-1, len(indices)])\n",
    "plt.xlabel('Feature Index') #xlabel 이 단어가 아닌 벡터로 나온다.\n",
    "plt.ylabel('Importance')\n",
    "plt.show()"
   ]
  },
  {
   "cell_type": "code",
   "execution_count": 34,
   "id": "3532e2dd",
   "metadata": {},
   "outputs": [
    {
     "name": "stdout",
     "output_type": "stream",
     "text": [
      "교차 검증 정확도: [0.675      0.575      0.6375     0.6375     0.6375     0.59493671\n",
      " 0.60759494 0.62025316 0.62025316 0.63291139]\n",
      "평균 정확도: 0.6238449367088607\n"
     ]
    }
   ],
   "source": [
    "from sklearn.naive_bayes import MultinomialNB\n",
    "from sklearn.model_selection import cross_val_score\n",
    "\n",
    "#전체 문서 벡터를 NumPy 배열로 변환\n",
    "X = np.array(data['doc_vector'].tolist())\n",
    "y = data['category']\n",
    "\n",
    "# RandomForestClassifier 초기화\n",
    "classifier = RandomForestClassifier()\n",
    "\n",
    "# 교차 검증 실행 (예: 5-폴드 교차 검증)\n",
    "scores = cross_val_score(classifier, X, y, cv=10)\n",
    "\n",
    "# 평균 정확도 출력\n",
    "print(\"교차 검증 정확도:\", scores)\n",
    "print(\"평균 정확도:\", np.mean(scores))"
   ]
  },
  {
   "attachments": {
    "image.png": {
     "image/png": "[encoded data removed]"
    }
   },
   "cell_type": "markdown",
   "id": "c4d78bb2",
   "metadata": {},
   "source": [
    "위처럼 교차검증을 하려했는데,   \n",
    "![image.png](attachment:image.png)   \n",
    "gpt에서 생각치 못했던 허점을 잡아줬다. doc_vector에 전처리 과정이 들어간건 맞지만, 데이터의 전처리 과정이 교차 검증의 각 fold에 대해 독립적으로 수행되어야 하기에, 위 처럼 코드를 짜면 제대로된 검증이 되지 않는다는 뜻이었다. 따라서 교차검증도 처음 모델을 만들 때 처럼 전처리 과정을 포함시켜서 진행하였다."
   ]
  },
  {
   "cell_type": "code",
   "execution_count": 58,
   "id": "65075820",
   "metadata": {},
   "outputs": [
    {
     "name": "stdout",
     "output_type": "stream",
     "text": [
      "교차 검증 정확도: [0.7857142857142857, 0.6938775510204082, 0.673469387755102, 0.7319587628865979, 0.711340206185567, 0.7628865979381443, 0.6597938144329897, 0.6494845360824743, 0.6804123711340206, 0.6804123711340206]\n",
      "평균 정확도: 0.7029349884283611\n"
     ]
    }
   ],
   "source": [
    "import numpy as np\n",
    "import pandas as pd\n",
    "import nltk\n",
    "from nltk.tokenize import word_tokenize\n",
    "from gensim.models import Word2Vec\n",
    "from sklearn.model_selection import KFold\n",
    "from sklearn.ensemble import RandomForestClassifier\n",
    "from sklearn.metrics import accuracy_score\n",
    "\n",
    "# 데이터 로드 및 전처리\n",
    "data = pd.read_csv(\"news_data_ML.csv\")\n",
    "\n",
    "def clean_title(text):\n",
    "    # 뉴스 제목에서 불필요한 패턴과 문자를 제거하는 함수\n",
    "    text = re.sub(r'\\[.*?\\]|\\(.*?\\)|[\\'\"“”‘’]', '', text)\n",
    "    return text.strip()\n",
    "\n",
    "data['cleaned_title'] = data['title'].apply(clean_title)\n",
    "data['tokenized_text'] = data['cleaned_title'].apply(word_tokenize)\n",
    "\n",
    "# K-Fold 교차 검증 설정\n",
    "kf = KFold(n_splits=10, shuffle=True, random_state=24)\n",
    "accuracies = []\n",
    "\n",
    "for train_index, test_index in kf.split(data):\n",
    "    # 훈련 데이터와 테스트 데이터 분할\n",
    "    train_data, test_data = data.iloc[train_index].copy(), data.iloc[test_index].copy()\n",
    "\n",
    "    # Word2Vec 모델 훈련\n",
    "    w2v_model = Word2Vec(train_data['tokenized_text'], vector_size=100, window=5, min_count=1, workers=4)\n",
    "\n",
    "    # 문서별 평균 벡터 계산 함수\n",
    "    def document_vector(doc):\n",
    "        doc = [word for word in doc if word in w2v_model.wv.index_to_key]\n",
    "        return np.mean(w2v_model.wv[doc], axis=0) if doc else np.zeros(100)\n",
    "\n",
    "    # 각 문서에 대한 문서 벡터 생성\n",
    "    train_data['doc_vector'] = train_data['tokenized_text'].apply(document_vector)\n",
    "    test_data['doc_vector'] = test_data['tokenized_text'].apply(document_vector)\n",
    "\n",
    "    # 분류기 훈련 및 예측\n",
    "    classifier = RandomForestClassifier()\n",
    "    classifier.fit(list(train_data['doc_vector']), train_data['category'])\n",
    "\n",
    "    predictions = classifier.predict(list(test_data['doc_vector']))\n",
    "    accuracy = accuracy_score(test_data['category'], predictions)\n",
    "    accuracies.append(accuracy)\n",
    "\n",
    "# 평균 정확도 출력\n",
    "print(\"교차 검증 정확도:\", accuracies)\n",
    "print(\"평균 정확도:\", np.mean(accuracies))\n"
   ]
  },
  {
   "cell_type": "code",
   "execution_count": 68,
   "id": "b98e7a24",
   "metadata": {},
   "outputs": [
    {
     "name": "stdout",
     "output_type": "stream",
     "text": [
      "교차 검증 정확도: [0.7653061224489796, 0.7244897959183674, 0.6632653061224489, 0.7422680412371134, 0.7010309278350515, 0.7835051546391752, 0.6597938144329897, 0.6597938144329897, 0.6288659793814433, 0.6907216494845361]\n",
      "평균 정확도: 0.7019040605933096\n"
     ]
    }
   ],
   "source": [
    "import numpy as np\n",
    "import pandas as pd\n",
    "import nltk\n",
    "import warnings\n",
    "from nltk.tokenize import word_tokenize\n",
    "from gensim.models import Word2Vec\n",
    "from sklearn.model_selection import KFold\n",
    "from sklearn.ensemble import RandomForestClassifier\n",
    "from sklearn.metrics import accuracy_score\n",
    "\n",
    "#iloc 대신 loc 사용하라는 경고창 제거(loc 사용시 DataFrame의 크기가 큰 경우 성능 저하가 발생)\n",
    "warnings.filterwarnings('ignore', category=pd.errors.SettingWithCopyWarning)\n",
    "\n",
    "# 데이터 로드 및 전처리\n",
    "data = pd.read_csv(\"news_data_ML.csv\")\n",
    "\n",
    "def clean_title(text):\n",
    "    # 뉴스 제목에서 불필요한 패턴과 문자를 제거하는 함수\n",
    "    text = re.sub(r'\\[.*?\\]|\\(.*?\\)|[\\'\"“”‘’]', '', text)\n",
    "    return text.strip()\n",
    "\n",
    "data['cleaned_title'] = data['title'].apply(clean_title)\n",
    "data['tokenized_text'] = data['cleaned_title'].apply(word_tokenize)\n",
    "\n",
    "# 전체 데이터셋에 대해 Word2Vec 모델 훈련\n",
    "w2v_model = Word2Vec(data['tokenized_text'], vector_size=100, window=5, min_count=1, workers=4)\n",
    "\n",
    "def document_vector(doc, w2v_model):\n",
    "    doc = [word for word in doc if word in w2v_model.wv.index_to_key]\n",
    "    return np.mean(w2v_model.wv[doc], axis=0) if doc else np.zeros(w2v_model.vector_size)\n",
    "\n",
    "# K-Fold 교차 검증 설정\n",
    "kf = KFold(n_splits=10, shuffle=True, random_state=24)\n",
    "accuracies = []\n",
    "\n",
    "for train_index, test_index in kf.split(data):\n",
    "    # 훈련 데이터와 테스트 데이터 분할\n",
    "    train_data, test_data = data.iloc[train_index], data.iloc[test_index]\n",
    "\n",
    "    # 각 문서에 대한 문서 벡터 생성\n",
    "    train_data['doc_vector'] = train_data['tokenized_text'].apply(lambda doc: document_vector(doc, w2v_model))\n",
    "    test_data['doc_vector'] = test_data['tokenized_text'].apply(lambda doc: document_vector(doc, w2v_model))\n",
    "\n",
    "    # 분류기 훈련 및 예측\n",
    "    classifier = RandomForestClassifier()\n",
    "    classifier.fit(list(train_data['doc_vector']), train_data['category'])\n",
    "\n",
    "    predictions = classifier.predict(list(test_data['doc_vector']))\n",
    "    accuracy = accuracy_score(test_data['category'], predictions)\n",
    "    accuracies.append(accuracy)\n",
    "\n",
    "# 평균 정확도 출력\n",
    "print(\"교차 검증 정확도:\", accuracies)\n",
    "print(\"평균 정확도:\", np.mean(accuracies))\n"
   ]
  },
  {
   "cell_type": "code",
   "execution_count": 75,
   "id": "8e7a414a",
   "metadata": {},
   "outputs": [
    {
     "name": "stdout",
     "output_type": "stream",
     "text": [
      "Best Parameters: {'max_depth': 15, 'max_features': 96, 'min_samples_leaf': 2, 'min_samples_split': 3, 'n_estimators': 160}\n",
      "Best Score: 0.6566694719124762\n"
     ]
    }
   ],
   "source": [
    "from sklearn.model_selection import RandomizedSearchCV\n",
    "from scipy.stats import randint as sp_randint\n",
    "\n",
    "# 문서 벡터 중 하나의 길이 확인\n",
    "vector_length = len(data['doc_vector'].iloc[0])\n",
    "\n",
    "# 하이퍼파라미터 범위 설정\n",
    "param_dist = {\n",
    "    \"n_estimators\": sp_randint(100, 1000),\n",
    "    \"max_depth\": sp_randint(3, 20),\n",
    "    \"min_samples_split\": sp_randint(2, 11),\n",
    "    \"min_samples_leaf\": sp_randint(1, 11),\n",
    "    \"max_features\": sp_randint(1, vector_length)  # 수정된 부분\n",
    "}\n",
    "\n",
    "# 랜덤 포레스트 분류기 초기화\n",
    "rf = RandomForestClassifier()\n",
    "\n",
    "# RandomizedSearchCV 초기화\n",
    "random_search = RandomizedSearchCV(rf, param_distributions=param_dist,\n",
    "                                   n_iter=10, cv=10, random_state=24)\n",
    "\n",
    "# 데이터 전처리 및 문서 벡터 변환 코드 (생략)\n",
    "\n",
    "# 하이퍼파라미터 튜닝 실행\n",
    "random_search.fit(list(data['doc_vector']), data['category'])\n",
    "\n",
    "# 최적의 파라미터와 점수 출력\n",
    "print(\"Best Parameters:\", random_search.best_params_)\n",
    "print(\"Best Score:\", random_search.best_score_)\n"
   ]
  },
  {
   "cell_type": "code",
   "execution_count": null,
   "id": "94edcb02",
   "metadata": {},
   "outputs": [],
   "source": []
  }
 ],
 "metadata": {
  "kernelspec": {
   "display_name": "Python 3 (ipykernel)",
   "language": "python",
   "name": "python3"
  },
  "language_info": {
   "codemirror_mode": {
    "name": "ipython",
    "version": 3
   },
   "file_extension": ".py",
   "mimetype": "text/x-python",
   "name": "python",
   "nbconvert_exporter": "python",
   "pygments_lexer": "ipython3",
   "version": "3.11.5"
  }
 },
 "nbformat": 4,
 "nbformat_minor": 5
}
