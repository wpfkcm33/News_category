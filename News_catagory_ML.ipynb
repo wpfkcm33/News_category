{
 "cells": [
  {
   "cell_type": "markdown",
   "id": "15d9593e",
   "metadata": {},
   "source": [
    "### Tf-idf를 사용한 분류기"
   ]
  },
  {
   "cell_type": "code",
   "execution_count": 11,
   "id": "3928a558",
   "metadata": {},
   "outputs": [
    {
     "name": "stdout",
     "output_type": "stream",
     "text": [
      "              precision    recall  f1-score   support\n",
      "\n",
      "          경제       1.00      1.00      1.00       102\n",
      "          사회       1.00      1.00      1.00        24\n",
      "          세계       1.00      1.00      1.00        61\n",
      "          정치       1.00      1.00      1.00        53\n",
      "\n",
      "    accuracy                           1.00       240\n",
      "   macro avg       1.00      1.00      1.00       240\n",
      "weighted avg       1.00      1.00      1.00       240\n",
      "\n"
     ]
    }
   ],
   "source": [
    "import numpy as np\n",
    "import pandas as pd\n",
    "import nltk\n",
    "from nltk.tokenize import word_tokenize\n",
    "from gensim.models import Word2Vec\n",
    "from sklearn.model_selection import train_test_split\n",
    "from sklearn.ensemble import RandomForestClassifier\n",
    "from sklearn.metrics import classification_report\n",
    "from sklearn.feature_extraction.text import TfidfVectorizer\n",
    "from sklearn.pipeline import make_pipeline\n",
    "from sklearn.feature_extraction.text import TfidfVectorizer\n",
    "from sklearn.naive_bayes import MultinomialNB\n",
    "from sklearn.model_selection import cross_val_score\n",
    "\n",
    "# 데이터 로드\n",
    "data = pd.read_csv(\"news_data.csv\")\n",
    "\n",
    "# 데이터 전처리 \n",
    "data['tokenized_text'] = data['title'].apply(word_tokenize)\n",
    "\n",
    "# 훈련 데이터와 테스트 데이터 분할\n",
    "X_train, X_test, y_train, y_test = train_test_split(data['title'], data['category'], test_size=0.3)\n",
    "\n",
    "# TF-IDF 벡터화\n",
    "vectorizer = TfidfVectorizer()\n",
    "X_train_vec = vectorizer.fit_transform(X_train)\n",
    "X_test_vec = vectorizer.transform(X_test)\n",
    "\n",
    "# 나이브 베이즈 모델 초기화 및 훈련\n",
    "model = MultinomialNB()\n",
    "model.fit(X_train_vec, y_train)\n",
    "\n",
    "# 모델 평가\n",
    "y_pred = model.predict(X_test_vec)\n",
    "print(classification_report(y_test, y_pred))\n"
   ]
  },
  {
   "cell_type": "code",
   "execution_count": 12,
   "id": "e99b7f2b",
   "metadata": {},
   "outputs": [
    {
     "data": {
      "text/plain": [
       "789               중국 옷·일장기 연상 그림…오해 부른 한국 재외공관\n",
       "633          '한국 노쇼' 호날두가 또…\"중국 팬들, 미안\" 이번엔 사과\n",
       "132    미국 WSJ ‘김건희 2200달러 디올백’ 보도…“한국 여당 뒤흔들다”\n",
       "126                      한국거래소, 신임 이사장에 정은보 추대\n",
       "795       [단독] 3주간 아파트 공급 멈춘다…청약홈 개편에 건설사 '당혹'\n",
       "                        ...                   \n",
       "368       최태원, 주한외국상의 대표들에 \"한국경제 일원으로 뭉치자\"(종합)\n",
       "340             24개국, 미·영 후티 추가공습 지지 성명…한국도 포함\n",
       "201            [속보] 개혁신당 이준석·한국의희망 양향자 “합당” 선언\n",
       "93           '한국 노쇼' 호날두가 또…\"중국 팬들, 미안\" 이번엔 사과\n",
       "793          '한국 노쇼' 호날두가 또…\"중국 팬들, 미안\" 이번엔 사과\n",
       "Name: title, Length: 560, dtype: object"
      ]
     },
     "execution_count": 12,
     "metadata": {},
     "output_type": "execute_result"
    }
   ],
   "source": [
    "X_train"
   ]
  },
  {
   "cell_type": "code",
   "execution_count": 13,
   "id": "861b64e9",
   "metadata": {},
   "outputs": [
    {
     "data": {
      "text/plain": [
       "210             24개국, 미·영 후티 추가공습 지지 성명…한국도 포함\n",
       "588       최태원, 주한외국상의 대표들에 \"한국경제 일원으로 뭉치자\"(종합)\n",
       "418       최태원, 주한외국상의 대표들에 \"한국경제 일원으로 뭉치자\"(종합)\n",
       "230             24개국, 미·영 후티 추가공습 지지 성명…한국도 포함\n",
       "460             24개국, 미·영 후티 추가공습 지지 성명…한국도 포함\n",
       "                        ...                   \n",
       "206                      한국거래소, 신임 이사장에 정은보 추대\n",
       "31             [속보] 개혁신당 이준석·한국의희망 양향자 “합당” 선언\n",
       "471            [속보] 개혁신당 이준석·한국의희망 양향자 “합당” 선언\n",
       "736                      한국거래소, 신임 이사장에 정은보 추대\n",
       "512    미국 WSJ ‘김건희 2200달러 디올백’ 보도…“한국 여당 뒤흔들다”\n",
       "Name: title, Length: 240, dtype: object"
      ]
     },
     "execution_count": 13,
     "metadata": {},
     "output_type": "execute_result"
    }
   ],
   "source": [
    "X_test"
   ]
  },
  {
   "cell_type": "code",
   "execution_count": 14,
   "id": "37778024",
   "metadata": {},
   "outputs": [
    {
     "data": {
      "text/plain": [
       "789    사회\n",
       "633    세계\n",
       "132    세계\n",
       "126    경제\n",
       "795    경제\n",
       "       ..\n",
       "368    경제\n",
       "340    세계\n",
       "201    정치\n",
       "93     세계\n",
       "793    세계\n",
       "Name: category, Length: 560, dtype: object"
      ]
     },
     "execution_count": 14,
     "metadata": {},
     "output_type": "execute_result"
    }
   ],
   "source": [
    "y_train"
   ]
  },
  {
   "cell_type": "code",
   "execution_count": 15,
   "id": "79a4bc28",
   "metadata": {},
   "outputs": [
    {
     "data": {
      "text/plain": [
       "210    세계\n",
       "588    경제\n",
       "418    경제\n",
       "230    세계\n",
       "460    세계\n",
       "       ..\n",
       "206    경제\n",
       "31     정치\n",
       "471    정치\n",
       "736    경제\n",
       "512    세계\n",
       "Name: category, Length: 240, dtype: object"
      ]
     },
     "execution_count": 15,
     "metadata": {},
     "output_type": "execute_result"
    }
   ],
   "source": [
    "y_test"
   ]
  },
  {
   "cell_type": "markdown",
   "id": "3e207123",
   "metadata": {},
   "source": [
    "#### example_text에 원하는 제목을 입력해 예측 결과 확인"
   ]
  },
  {
   "cell_type": "code",
   "execution_count": 16,
   "id": "9c9589fe",
   "metadata": {},
   "outputs": [
    {
     "name": "stdout",
     "output_type": "stream",
     "text": [
      "제목: EU, 반도체·AI 등 민감기술 투자·수출 통제 추진 \n",
      "예측된 카테고리: 경제\n"
     ]
    }
   ],
   "source": [
    "example_text = \"EU, 반도체·AI 등 민감기술 투자·수출 통제 추진\"\n",
    "\n",
    "# 전체 텍스트에 대한 벡터 변환\n",
    "example_text_vec = vectorizer.transform([example_text])  # 리스트로 감싸서 전달\n",
    "\n",
    "# 예측 수행\n",
    "predicted_category = model.predict(example_text_vec)\n",
    "\n",
    "print(f\"제목: {example_text} \\n예측된 카테고리: {predicted_category[0]}\")"
   ]
  },
  {
   "cell_type": "markdown",
   "id": "81cbcd6a",
   "metadata": {},
   "source": [
    "Multinomial Naive Bayes 모델은 각 클래스에 대한 각 단어의 로그 조건부 확률을 feature_log_prob_ 속성에 저장한다.  \n",
    "이 값을 사용하여 각 클래스에 대한 가장 중요한 단어들을 확인해보자."
   ]
  },
  {
   "cell_type": "code",
   "execution_count": 17,
   "id": "f94f928a",
   "metadata": {},
   "outputs": [
    {
     "name": "stdout",
     "output_type": "stream",
     "text": [
      "Class: 경제\n",
      "Top words: 정은보, 추대, 이사장에, 신임, 한국거래소, 일원으로, 종합, 주한외국상의, 최태원, 대표들에\n",
      "\n",
      "Class: 사회\n",
      "Top words: 부른, 재외공관, 일장기, 연상, 오해, 그림, 중국, 한국, 보도, 뒤흔들다\n",
      "\n",
      "Class: 세계\n",
      "Top words: 한국, 후티, 한국도, 지지, 추가공습, 포함, 24개국, 성명, 노쇼, 이번엔\n",
      "\n",
      "Class: 정치\n",
      "Top words: 양향자, 한국의희망, 이준석, 선언, 개혁신당, 합당, 속보, 성명, 사과, 뒤흔들다\n",
      "\n"
     ]
    }
   ],
   "source": [
    "import numpy as np\n",
    "\n",
    "# TF-IDF 벡터라이저의 특성 이름 가져오기\n",
    "feature_names = vectorizer.get_feature_names_out()\n",
    "\n",
    "# 각 클래스에 대한 상위 N개 중요 단어를 추출하는 함수\n",
    "def top_n_words_per_class(class_index, n=10):\n",
    "    sorted_indices = model.feature_log_prob_[class_index, :].argsort()[::-1]\n",
    "    top_n = feature_names[sorted_indices][:n]\n",
    "    return top_n\n",
    "\n",
    "# 각 클래스에 대한 상위 단어들 출력\n",
    "for i in range(len(model.classes_)):\n",
    "    class_name = model.classes_[i]\n",
    "    top_words = top_n_words_per_class(i, 10)\n",
    "    print(f\"Class: {class_name}\")\n",
    "    print(f\"Top words: {', '.join(top_words)}\\n\")\n"
   ]
  },
  {
   "cell_type": "code",
   "execution_count": 18,
   "id": "474f9f62",
   "metadata": {},
   "outputs": [
    {
     "name": "stdout",
     "output_type": "stream",
     "text": [
      "교차 검증 정확도 점수: [1. 1. 1. 1. 1. 1. 1. 1. 1. 1.]\n",
      "평균 정확도: 1.0\n"
     ]
    }
   ],
   "source": [
    "from sklearn.pipeline import make_pipeline\n",
    "from sklearn.feature_extraction.text import TfidfVectorizer\n",
    "from sklearn.naive_bayes import MultinomialNB\n",
    "from sklearn.model_selection import cross_val_score\n",
    "\n",
    "# 데이터 로드 및 전처리\n",
    "data = pd.read_csv(\"news_data.csv\")\n",
    "\n",
    "# 파이프라인 생성: TF-IDF 벡터화 및 나이브 베이즈 모델\n",
    "pipeline = make_pipeline(TfidfVectorizer(), MultinomialNB())\n",
    "\n",
    "# 교차 검증 수행\n",
    "cross_val_scores = cross_val_score(pipeline, data['title'], data['category'], cv=10, scoring='accuracy')\n",
    "\n",
    "# 교차 검증 결과 출력\n",
    "print(\"교차 검증 정확도 점수:\", cross_val_scores)\n",
    "print(\"평균 정확도:\", np.mean(cross_val_scores))\n"
   ]
  },
  {
   "cell_type": "markdown",
   "id": "9198dee2",
   "metadata": {},
   "source": [
    "### Word2Vec를 사용한 분류기"
   ]
  },
  {
   "cell_type": "code",
   "execution_count": 19,
   "id": "f97b018b",
   "metadata": {},
   "outputs": [
    {
     "name": "stdout",
     "output_type": "stream",
     "text": [
      "              precision    recall  f1-score   support\n",
      "\n",
      "          경제       1.00      1.00      1.00        95\n",
      "          사회       1.00      1.00      1.00        27\n",
      "          세계       1.00      1.00      1.00        70\n",
      "          정치       1.00      1.00      1.00        48\n",
      "\n",
      "    accuracy                           1.00       240\n",
      "   macro avg       1.00      1.00      1.00       240\n",
      "weighted avg       1.00      1.00      1.00       240\n",
      "\n"
     ]
    }
   ],
   "source": [
    "import numpy as np\n",
    "import pandas as pd\n",
    "import nltk\n",
    "from nltk.tokenize import word_tokenize\n",
    "from gensim.models import Word2Vec\n",
    "from sklearn.model_selection import train_test_split\n",
    "from sklearn.ensemble import RandomForestClassifier\n",
    "from sklearn.metrics import classification_report\n",
    "\n",
    "# 데이터 로드 및 전처리\n",
    "data = pd.read_csv(\"news_data.csv\")\n",
    "\n",
    "data['tokenized_text'] = data['title'].apply(word_tokenize)\n",
    "# Word2Vec 모델 훈련\n",
    "w2v_model = Word2Vec(data['tokenized_text'], vector_size=100, window=5, min_count=1, workers=4)\n",
    "\n",
    "# 문서별 평균 벡터 계산 함수\n",
    "def document_vector(doc):\n",
    "    # 단어 벡터의 평균을 계산\n",
    "    doc = [word for word in doc if word in w2v_model.wv.index_to_key]\n",
    "    return np.mean(w2v_model.wv[doc], axis=0)\n",
    "\n",
    "# 각 문서에 대한 문서 벡터 생성\n",
    "data['doc_vector'] = data['tokenized_text'].apply(document_vector)\n",
    "\n",
    "# 훈련 데이터와 테스트 데이터 분할\n",
    "X_train, X_test, y_train, y_test = train_test_split(data['doc_vector'].tolist(), data['category'], test_size=0.3)\n",
    "\n",
    "# 분류기 훈련\n",
    "classifier = RandomForestClassifier()\n",
    "classifier.fit(X_train, y_train)\n",
    "\n",
    "# 예측을 위한 함수 정의\n",
    "def predict_category(text, w2v_model, classifier):\n",
    "    # 텍스트를 토큰화하고 Word2Vec 모델을 사용하여 벡터 생성\n",
    "    tokenized_text = text.split()\n",
    "    doc_vector = document_vector(tokenized_text)\n",
    "    if np.isnan(doc_vector).any():\n",
    "        doc_vector = np.zeros(w2v_model.vector_size)\n",
    "    \n",
    "    # 예측 수행\n",
    "    predicted_category = classifier.predict([doc_vector])\n",
    "    return predicted_category[0]\n",
    "\n",
    "# 모델 평가\n",
    "y_pred = classifier.predict(X_test)\n",
    "print(classification_report(y_test, y_pred))"
   ]
  },
  {
   "cell_type": "markdown",
   "id": "8c90b36b",
   "metadata": {},
   "source": [
    "Word2Vec 모델은 훈련 데이터에 있는 단어들만 학습한다. 만약 예측하려는 텍스트에 훈련 데이터에 없는 새로운 단어가 포함되어 있다면, 이 단어들은 Word2Vec 모델에 의해 벡터로 변환되지 않기 때문에, 제대로 예측하지 못하거나 에러가 나온다.\n",
    "즉 뉴스 제목으로 카테고리를 예측하는 모델을 만들 때 Word2Vec 모델을 사용한다면, 뉴스 제목에 어떤 단어가 들어와도 그 단어가 훈련 데이터 안에 있어야 하도록 어마어마한 양의 훈련 데이터가 필요하다는 뜻이다."
   ]
  },
  {
   "cell_type": "code",
   "execution_count": 20,
   "id": "216b37c4",
   "metadata": {},
   "outputs": [
    {
     "name": "stdout",
     "output_type": "stream",
     "text": [
      "제목: 24개국, 미·영 후티 추가공습 지지 성명…한국도 포함 \n",
      "예측된 카테고리: 세계\n"
     ]
    }
   ],
   "source": [
    "#제목에 있는 단어가 학습 데이터에 모두 있는 경우\n",
    "example_text_1 = \"24개국, 미·영 후티 추가공습 지지 성명…한국도 포함\"\n",
    "predicted_category_1 = predict_category(example_text_1, w2v_model, classifier)\n",
    "print(f\"제목: {example_text_1} \\n예측된 카테고리: {predicted_category_1}\")\n",
    "\n",
    "# #제목에 학습 데이터에 없는 단어가 있는 경우 - ValueError: need at least one array to concatenate\n",
    "# example_text_2 = \"한국원자력학회, 고준위 방폐물 특별법 처리 촉구\"\n",
    "# predicted_category_2 = predict_category(example_text_2, w2v_model, classifier)\n",
    "# print(f\"제목: {example_text_2} \\n예측된 카테고리: {predicted_category_2}\")"
   ]
  },
  {
   "cell_type": "markdown",
   "id": "51d58909",
   "metadata": {},
   "source": [
    "Word2Vec에서 각 특성은 Word2Vec 모델에 의해 생성된 개별 차원(word -> vector)을 나타내기 때문에, 카테고리 결정에 영향을 미치는 구체적인 단어를 파악하고자 한다면 TF-IDF를 사용해야 한다."
   ]
  },
  {
   "cell_type": "code",
   "execution_count": 21,
   "id": "ef5b8b4c",
   "metadata": {},
   "outputs": [
    {
     "data": {
      "image/png": "[encoded data removed]",
      "text/plain": [
       "<Figure size 1500x500 with 1 Axes>"
      ]
     },
     "metadata": {},
     "output_type": "display_data"
    }
   ],
   "source": [
    "import matplotlib.pyplot as plt\n",
    "\n",
    "# RandomForestClassifier의 feature importance 추출\n",
    "importances = classifier.feature_importances_\n",
    "\n",
    "# feature importance를 시각화\n",
    "indices = np.argsort(importances)[::-1]\n",
    "plt.figure(figsize=(15, 5))\n",
    "plt.title(\"Feature Importances\")\n",
    "plt.bar(range(len(indices)), importances[indices], color=\"r\", align=\"center\")\n",
    "plt.xticks(range(len(indices)), indices)\n",
    "plt.xlim([-1, len(indices)])\n",
    "plt.xlabel('Feature Index') #xlabel 이 단어가 아닌 벡터로 나온다.\n",
    "plt.ylabel('Importance')\n",
    "plt.show()"
   ]
  },
  {
   "cell_type": "code",
   "execution_count": 22,
   "id": "3532e2dd",
   "metadata": {},
   "outputs": [
    {
     "name": "stdout",
     "output_type": "stream",
     "text": [
      "교차 검증 정확도: [1. 1. 1. 1. 1. 1. 1. 1. 1. 1.]\n",
      "평균 정확도: 1.0\n"
     ]
    }
   ],
   "source": [
    "from sklearn.naive_bayes import MultinomialNB\n",
    "from sklearn.model_selection import cross_val_score\n",
    "\n",
    "#전체 문서 벡터를 NumPy 배열로 변환\n",
    "X = np.array(data['doc_vector'].tolist())\n",
    "y = data['category']\n",
    "\n",
    "# RandomForestClassifier 초기화\n",
    "classifier = RandomForestClassifier()\n",
    "\n",
    "# 교차 검증 실행 (예: 5-폴드 교차 검증)\n",
    "scores = cross_val_score(classifier, X, y, cv=10)\n",
    "\n",
    "# 평균 정확도 출력\n",
    "print(\"교차 검증 정확도:\", scores)\n",
    "print(\"평균 정확도:\", np.mean(scores))"
   ]
  },
  {
   "cell_type": "code",
   "execution_count": null,
   "id": "3f84baeb",
   "metadata": {},
   "outputs": [],
   "source": []
  }
 ],
 "metadata": {
  "kernelspec": {
   "display_name": "Python 3 (ipykernel)",
   "language": "python",
   "name": "python3"
  },
  "language_info": {
   "codemirror_mode": {
    "name": "ipython",
    "version": 3
   },
   "file_extension": ".py",
   "mimetype": "text/x-python",
   "name": "python",
   "nbconvert_exporter": "python",
   "pygments_lexer": "ipython3",
   "version": "3.11.5"
  }
 },
 "nbformat": 4,
 "nbformat_minor": 5
}
